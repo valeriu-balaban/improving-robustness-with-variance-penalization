{
  "cells": [
    {
      "cell_type": "markdown",
      "metadata": {
        "id": "view-in-github",
        "colab_type": "text"
      },
      "source": [
        "<a href=\"https://colab.research.google.com/github/valeriu-balaban/improving-robustness-with-variance-penalization/blob/main/improving_robustness_with_variance_penalization.ipynb\" target=\"_parent\"><img src=\"https://colab.research.google.com/assets/colab-badge.svg\" alt=\"Open In Colab\"/></a>"
      ]
    },
    {
      "cell_type": "markdown",
      "source": [
        "# Setup\n",
        "\n",
        "**Please run this notebook on a runtime with a GPU. Select Runtime >> Change runtime type >> Hardawre accelerator: GPU**\n",
        "\n",
        "Check if a GPU is available using by running the next cell."
      ],
      "metadata": {
        "id": "9H_DYGL2FY6B"
      }
    },
    {
      "cell_type": "code",
      "execution_count": 2,
      "metadata": {
        "colab": {
          "base_uri": "https://localhost:8080/"
        },
        "id": "Zpjx7A4kBANN",
        "outputId": "97e246fc-6699-4129-fd7b-2654ba8b2fcc"
      },
      "outputs": [
        {
          "output_type": "stream",
          "name": "stdout",
          "text": [
            "Tue Oct 11 21:04:01 2022       \n",
            "+-----------------------------------------------------------------------------+\n",
            "| NVIDIA-SMI 460.32.03    Driver Version: 460.32.03    CUDA Version: 11.2     |\n",
            "|-------------------------------+----------------------+----------------------+\n",
            "| GPU  Name        Persistence-M| Bus-Id        Disp.A | Volatile Uncorr. ECC |\n",
            "| Fan  Temp  Perf  Pwr:Usage/Cap|         Memory-Usage | GPU-Util  Compute M. |\n",
            "|                               |                      |               MIG M. |\n",
            "|===============================+======================+======================|\n",
            "|   0  Tesla T4            Off  | 00000000:00:04.0 Off |                    0 |\n",
            "| N/A   48C    P8     9W /  70W |      0MiB / 15109MiB |      0%      Default |\n",
            "|                               |                      |                  N/A |\n",
            "+-------------------------------+----------------------+----------------------+\n",
            "                                                                               \n",
            "+-----------------------------------------------------------------------------+\n",
            "| Processes:                                                                  |\n",
            "|  GPU   GI   CI        PID   Type   Process name                  GPU Memory |\n",
            "|        ID   ID                                                   Usage      |\n",
            "|=============================================================================|\n",
            "|  No running processes found                                                 |\n",
            "+-----------------------------------------------------------------------------+\n"
          ]
        }
      ],
      "source": [
        "!nvidia-smi"
      ]
    },
    {
      "cell_type": "code",
      "execution_count": 1,
      "metadata": {
        "colab": {
          "base_uri": "https://localhost:8080/"
        },
        "id": "k7JIkGOCpLt8",
        "outputId": "a61c5907-6c15-451d-fb85-b77b998ec706"
      },
      "outputs": [
        {
          "output_type": "stream",
          "name": "stdout",
          "text": [
            "Cloning into 'improving-robustness-with-variance-penalization'...\n",
            "remote: Enumerating objects: 25, done.\u001b[K\n",
            "remote: Counting objects: 100% (25/25), done.\u001b[K\n",
            "remote: Compressing objects: 100% (25/25), done.\u001b[K\n",
            "remote: Total 25 (delta 7), reused 0 (delta 0), pack-reused 0\u001b[K\n",
            "Unpacking objects: 100% (25/25), done.\n"
          ]
        }
      ],
      "source": [
        "!git clone https://github.com/valeriu-balaban/improving-robustness-with-variance-penalization.git"
      ]
    },
    {
      "cell_type": "code",
      "execution_count": 3,
      "metadata": {
        "id": "ifeKfO0kpkJe"
      },
      "outputs": [],
      "source": [
        "%%capture\n",
        "!pip install wandb pytorch-lightning"
      ]
    },
    {
      "cell_type": "markdown",
      "source": [
        "Runtime info"
      ],
      "metadata": {
        "id": "oYUXqHdQGAa0"
      }
    },
    {
      "cell_type": "code",
      "execution_count": 4,
      "metadata": {
        "colab": {
          "base_uri": "https://localhost:8080/"
        },
        "id": "3TBhNqKOp-9S",
        "outputId": "43416115-07e7-462a-beb2-a72e99563011"
      },
      "outputs": [
        {
          "output_type": "stream",
          "name": "stdout",
          "text": [
            "Pytorch 1.12.1+cu113\n",
            "WandB 0.13.4\n",
            "Pytorch Lightning 1.7.7\n",
            "––––––––––––––––––––––––––––––––––––––––\n",
            "Number of CPUs 2\n",
            "––––––––––––––––––––––––––––––––––––––––\n",
            "Tue Oct 11 21:30:52 2022       \n",
            "+-----------------------------------------------------------------------------+\n",
            "| NVIDIA-SMI 460.32.03    Driver Version: 460.32.03    CUDA Version: 11.2     |\n",
            "|-------------------------------+----------------------+----------------------+\n",
            "| GPU  Name        Persistence-M| Bus-Id        Disp.A | Volatile Uncorr. ECC |\n",
            "| Fan  Temp  Perf  Pwr:Usage/Cap|         Memory-Usage | GPU-Util  Compute M. |\n",
            "|                               |                      |               MIG M. |\n",
            "|===============================+======================+======================|\n",
            "|   0  Tesla T4            Off  | 00000000:00:04.0 Off |                    0 |\n",
            "| N/A   39C    P8     9W /  70W |      0MiB / 15109MiB |      0%      Default |\n",
            "|                               |                      |                  N/A |\n",
            "+-------------------------------+----------------------+----------------------+\n",
            "                                                                               \n",
            "+-----------------------------------------------------------------------------+\n",
            "| Processes:                                                                  |\n",
            "|  GPU   GI   CI        PID   Type   Process name                  GPU Memory |\n",
            "|        ID   ID                                                   Usage      |\n",
            "|=============================================================================|\n",
            "|  No running processes found                                                 |\n",
            "+-----------------------------------------------------------------------------+\n"
          ]
        }
      ],
      "source": [
        "import torch\n",
        "import wandb\n",
        "import multiprocessing\n",
        "import pytorch_lightning as pl\n",
        "\n",
        "\n",
        "print(\"Pytorch\", torch.__version__)\n",
        "print(\"WandB\", wandb.__version__)\n",
        "print(\"Pytorch Lightning\", pl.__version__)\n",
        "print(\"–\"*40)\n",
        "print(\"Number of CPUs\", multiprocessing.cpu_count())\n",
        "print(\"–\"*40)\n",
        "!nvidia-smi"
      ]
    },
    {
      "cell_type": "code",
      "execution_count": 5,
      "metadata": {
        "colab": {
          "base_uri": "https://localhost:8080/",
          "height": 89
        },
        "id": "5sNYFwv8aa49",
        "outputId": "6a4eb015-ade9-4cf5-90bc-4a388653a65f"
      },
      "outputs": [
        {
          "output_type": "stream",
          "name": "stderr",
          "text": [
            "ERROR:wandb.jupyter:Failed to detect the name of this notebook, you can set it manually with the WANDB_NOTEBOOK_NAME environment variable to enable code saving.\n"
          ]
        },
        {
          "output_type": "display_data",
          "data": {
            "text/plain": [
              "<IPython.core.display.Javascript object>"
            ],
            "application/javascript": [
              "\n",
              "        window._wandbApiKey = new Promise((resolve, reject) => {\n",
              "            function loadScript(url) {\n",
              "            return new Promise(function(resolve, reject) {\n",
              "                let newScript = document.createElement(\"script\");\n",
              "                newScript.onerror = reject;\n",
              "                newScript.onload = resolve;\n",
              "                document.body.appendChild(newScript);\n",
              "                newScript.src = url;\n",
              "            });\n",
              "            }\n",
              "            loadScript(\"https://cdn.jsdelivr.net/npm/postmate/build/postmate.min.js\").then(() => {\n",
              "            const iframe = document.createElement('iframe')\n",
              "            iframe.style.cssText = \"width:0;height:0;border:none\"\n",
              "            document.body.appendChild(iframe)\n",
              "            const handshake = new Postmate({\n",
              "                container: iframe,\n",
              "                url: 'https://wandb.ai/authorize'\n",
              "            });\n",
              "            const timeout = setTimeout(() => reject(\"Couldn't auto authenticate\"), 5000)\n",
              "            handshake.then(function(child) {\n",
              "                child.on('authorize', data => {\n",
              "                    clearTimeout(timeout)\n",
              "                    resolve(data)\n",
              "                });\n",
              "            });\n",
              "            })\n",
              "        });\n",
              "    "
            ]
          },
          "metadata": {}
        },
        {
          "output_type": "stream",
          "name": "stderr",
          "text": [
            "\u001b[34m\u001b[1mwandb\u001b[0m: Appending key for api.wandb.ai to your netrc file: /root/.netrc\n"
          ]
        },
        {
          "output_type": "execute_result",
          "data": {
            "text/plain": [
              "True"
            ]
          },
          "metadata": {},
          "execution_count": 5
        }
      ],
      "source": [
        "wandb.login()"
      ]
    },
    {
      "cell_type": "markdown",
      "source": [
        "# Training with Limited Data using Variance Minimization\n",
        "\n",
        "To train with limited data set the following parameters:\n",
        "- `noise_rate = 0.0`\n",
        "- `asym_noise = 0`\n",
        "- `imbalanced = True`\n",
        "- `train_ratio` adjust based on the dataset used\n",
        "- `lambda_2` sets the value of $\\lambda$ for `FindQ` procedure when using \"distributional-varpen\" as a loss function\n",
        "- `lambda_3` sets the value of $\\gamma$ for `FindQ` procedure when using \"distributional-varpen\" as a loss function"
      ],
      "metadata": {
        "id": "-oyecL64GNtB"
      }
    },
    {
      "cell_type": "code",
      "execution_count": 10,
      "metadata": {
        "id": "vt8-U7aC_iMs",
        "colab": {
          "base_uri": "https://localhost:8080/",
          "height": 73
        },
        "outputId": "261983ac-d3b1-4433-afec-222f1af567ed"
      },
      "outputs": [
        {
          "output_type": "stream",
          "name": "stdout",
          "text": [
            "Create sweep with ID: mh9no285\n",
            "Sweep URL: https://wandb.ai/vbalaban/weighted-mean-robustness/sweeps/mh9no285\n"
          ]
        },
        {
          "output_type": "execute_result",
          "data": {
            "text/plain": [
              "'mh9no285'"
            ],
            "application/vnd.google.colaboratory.intrinsic+json": {
              "type": "string"
            }
          },
          "metadata": {},
          "execution_count": 10
        }
      ],
      "source": [
        "import wandb\n",
        "\n",
        "sweep_config = {\n",
        "  \"name\": \"limited data sweep\",\n",
        "  \"program\": \"improving-robustness-with-variance-penalization/train.py\",\n",
        "  \"method\": \"grid\",\n",
        "  \"parameters\": {\n",
        "      \"loss_function\":    { \"values\": [\"distributional-varpen\", \"direct-varpen\",]},\n",
        "      \"noise_rate\":       { \"values\": [0.0, ]},\n",
        "      # \"random_seed\":      { \"values\": [1, 2, 3, 4, 5]},\n",
        "      # \"random_seed\":      { \"values\": [1, 2, 3]},\n",
        "      \"random_seed\":      { \"values\": [1, ]},\n",
        "      \"asym_noise\":       { \"values\": [0, ]},\n",
        "\n",
        "      \"dataset\":          { \"values\": [\"CIFAR-10\"]},\n",
        "      \"train_ratio\":      { \"values\": [0.01, 0.02, 0.03, 0.04]},\n",
        "\n",
        "      # \"dataset\":          { \"values\": [\"MNIST\"]},\n",
        "      # \"train_ratio\":      { \"values\": [ 0.002, 0.004, 0.006, 0.008]},\n",
        "\n",
        "      \"lambda_2\":         { \"values\": [0.75 ]},\n",
        "      # \"lambda_2\":         { \"values\": [0.10000000149011612, 0.1333521455526352, 0.17782793939113617, 0.23713737726211548, 0.3162277638912201, 0.4216965138912201, 0.5623413324356079, 0.7498942017555237, 1.0, 1.3335214853286743, 1.778279423713684, 2.3713736534118652, 3.1622776985168457]},\n",
        "      \n",
        "      # \"lambda_3\":         { \"values\": [0, ]},\n",
        "      \"lambda_3\":         { \"values\": [0.45,]},\n",
        "      \"lambda_4\":         { \"values\": [0, ]},\n",
        "\n",
        "      \"normalize\":        { \"values\": [False,]},\n",
        "      \"imbalanced\":       { \"values\": [True,]},\n",
        "  }\n",
        "}\n",
        "\n",
        "wandb.sweep(sweep_config, project=\"weighted-mean-robustness\")"
      ]
    },
    {
      "cell_type": "code",
      "source": [
        "!wandb agent vbalaban/weighted-mean-robustness/mh9no285 "
      ],
      "metadata": {
        "id": "PLkAfgOS93pq"
      },
      "execution_count": null,
      "outputs": []
    },
    {
      "cell_type": "markdown",
      "source": [
        "# Training with Mislabeled Data using Variance Maximization\n",
        "\n",
        "To train with mislabeled data set the following parameters:\n",
        "- `noise_rate` sets the percentage of mislabeld samples\n",
        "- `asym_noise = 0`\n",
        "- `imbalanced = False`\n",
        "- `train_ratio = 0.9`\n",
        "- `lambda_2` sets the value of $\\lambda$ for `FindQ` procedure when using \"distributional-varpen\" as a loss function\n",
        "- `lambda_3` sets the value of $\\gamma$ for `FindQ` procedure when using \"distributional-varpen\" as a loss function"
      ],
      "metadata": {
        "id": "actCNoLfH2pz"
      }
    },
    {
      "cell_type": "code",
      "source": [
        "import wandb\n",
        "\n",
        "sweep_config = {\n",
        "  \"name\": \"Mislabeled data sweep\",\n",
        "  \"program\": \"improving-robustness-with-variance-penalization/train.py\",\n",
        "  \"method\": \"grid\",\n",
        "  \"parameters\": {\n",
        "      \"loss_function\":    { \"values\": [ \"distributional-varpen\",]},\n",
        "      \"noise_rate\":       { \"values\": [0.2, 0.4, 0.6]},\n",
        "      # \"random_seed\":      { \"values\": [1, 2, 3, 4, 5]},\n",
        "      # \"random_seed\":      { \"values\": [1, 2, 3]},\n",
        "      \"random_seed\":      { \"values\": [1, ]},\n",
        "      \"asym_noise\":       { \"values\": [0,]},\n",
        "\n",
        "      \"dataset\":          { \"values\": [\"MNIST\"]},\n",
        "      \"train_ratio\":      { \"values\": [0.9, ]},\n",
        "\n",
        "      # \"lambda_2\":         { \"values\": [-0.5, -0.7, -0.9,]},\n",
        "      \"lambda_2\":         { \"values\": [-0.10000000149011612, -0.11787686496973038, -0.13894955813884735, -0.16378936171531677, -0.19306977093219757, -0.2275845855474472, -0.2682695984840393, -0.3162277638912201, -0.3727593719959259, -0.43939706683158875, -0.5179474353790283, -0.6105402112007141, -0.7196856737136841, -0.8483428955078125, -1.0]},\n",
        "      # \"lambda_2\":         { \"values\": [0.10000000149011612, 0.1333521455526352, 0.17782793939113617, 0.23713737726211548, 0.3162277638912201, 0.4216965138912201, 0.5623413324356079, 0.7498942017555237, 1.0, 1.3335214853286743, 1.778279423713684, 2.3713736534118652, 3.1622776985168457]},\n",
        "      \n",
        "      \"lambda_3\":         { \"values\": [1, ]},\n",
        "      \"lambda_4\":         { \"values\": [0, ]},\n",
        "\n",
        "      \"normalize\":        { \"values\": [False,]},\n",
        "      \"imbalanced\":       { \"values\": [False,]},\n",
        "  }\n",
        "}\n",
        "\n",
        "wandb.sweep(sweep_config, project=\"weighted-mean-robustness\")"
      ],
      "metadata": {
        "colab": {
          "base_uri": "https://localhost:8080/",
          "height": 91
        },
        "id": "lcPnwMBNPN2x",
        "outputId": "9d6e44c7-21a8-4e8c-baa7-2a53ed01bcbf"
      },
      "execution_count": 2,
      "outputs": [
        {
          "output_type": "stream",
          "name": "stderr",
          "text": [
            "ERROR:wandb.jupyter:Failed to detect the name of this notebook, you can set it manually with the WANDB_NOTEBOOK_NAME environment variable to enable code saving.\n"
          ]
        },
        {
          "output_type": "stream",
          "name": "stdout",
          "text": [
            "Create sweep with ID: bzbr06h6\n",
            "Sweep URL: https://wandb.ai/vbalaban/weighted-mean-robustness/sweeps/bzbr06h6\n"
          ]
        },
        {
          "output_type": "execute_result",
          "data": {
            "text/plain": [
              "'bzbr06h6'"
            ],
            "application/vnd.google.colaboratory.intrinsic+json": {
              "type": "string"
            }
          },
          "metadata": {},
          "execution_count": 2
        }
      ]
    },
    {
      "cell_type": "code",
      "execution_count": null,
      "metadata": {
        "id": "KMdDyCe8_rNo"
      },
      "outputs": [],
      "source": [
        "!wandb agent vbalaban/weighted-mean-robustness/bzbr06h6 "
      ]
    },
    {
      "cell_type": "code",
      "execution_count": null,
      "metadata": {
        "id": "_e8FU1ySdb4d"
      },
      "outputs": [],
      "source": []
    }
  ],
  "metadata": {
    "accelerator": "GPU",
    "colab": {
      "collapsed_sections": [],
      "provenance": [],
      "mount_file_id": "1uOefUiTeWUYrSk5wdXUNWEehDKyNVNr7",
      "authorship_tag": "ABX9TyMGp4SlPRpfdtLgfvl9IqoK",
      "include_colab_link": true
    },
    "kernelspec": {
      "display_name": "Python 3",
      "name": "python3"
    },
    "language_info": {
      "name": "python"
    }
  },
  "nbformat": 4,
  "nbformat_minor": 0
}